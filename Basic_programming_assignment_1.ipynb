{
 "cells": [
  {
   "cell_type": "code",
   "execution_count": null,
   "metadata": {},
   "outputs": [],
   "source": [
    "# program to print 'Hello Python'\n",
    "\n",
    "print('Hello Python')"
   ]
  },
  {
   "cell_type": "code",
   "execution_count": null,
   "metadata": {},
   "outputs": [],
   "source": [
    "# program to do arithmetic operations addition and division \n",
    "\n",
    "a = int(input('enter the 1st value: '))\n",
    "b = int(input('enter the 2nd value: '))\n",
    "c = (a+b)/2\n",
    "print(c)"
   ]
  },
  {
   "cell_type": "code",
   "execution_count": null,
   "metadata": {},
   "outputs": [],
   "source": [
    "# program to find area of the triangle \n",
    "\n",
    "base = int(input('Base of the triangle: '))\n",
    "height = int(input('height of the triangle: '))\n",
    "area = (base * height)/2\n",
    "print('Area of the triangle : ',area)"
   ]
  },
  {
   "cell_type": "code",
   "execution_count": null,
   "metadata": {},
   "outputs": [],
   "source": [
    "# program to swap two variables\n",
    "\n",
    "x = input('enter the value of x: ')\n",
    "y = input('enter the value of y: ')\n",
    "t = x\n",
    "x = y\n",
    "y = t\n",
    "print('the new value of x: ',x)\n",
    "print('the new value of y: ',y)"
   ]
  },
  {
   "cell_type": "code",
   "execution_count": null,
   "metadata": {},
   "outputs": [],
   "source": [
    "# program to print a random integer \n",
    "\n",
    "import random \n",
    "i = int(input('enter the start value: '))\n",
    "j = int(input('enter the end value: '))\n",
    "print(random.randint(i,j))"
   ]
  },
  {
   "cell_type": "code",
   "execution_count": null,
   "metadata": {},
   "outputs": [],
   "source": []
  },
  {
   "cell_type": "code",
   "execution_count": null,
   "metadata": {},
   "outputs": [],
   "source": []
  }
 ],
 "metadata": {
  "kernelspec": {
   "display_name": "Python 3",
   "language": "python",
   "name": "python3"
  },
  "language_info": {
   "codemirror_mode": {
    "name": "ipython",
    "version": 3
   },
   "file_extension": ".py",
   "mimetype": "text/x-python",
   "name": "python",
   "nbconvert_exporter": "python",
   "pygments_lexer": "ipython3",
   "version": "3.7.3"
  }
 },
 "nbformat": 4,
 "nbformat_minor": 2
}
