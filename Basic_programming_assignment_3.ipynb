{
 "cells": [
  {
   "cell_type": "code",
   "execution_count": null,
   "metadata": {},
   "outputs": [],
   "source": [
    "# program to check whether the number is positive or negative zero\n",
    "number = int(input('enter a number: '))\n",
    "if number >0:\n",
    "    print('the number is positive')\n",
    "elif number==0:\n",
    "    print('the number is equal to zero')\n",
    "elif number <0:\n",
    "    print('the number is negative')\n",
    "    \n"
   ]
  },
  {
   "cell_type": "code",
   "execution_count": null,
   "metadata": {},
   "outputs": [],
   "source": [
    "# program to check whether is odd or even \n",
    "a = int(input('enter a number: '))\n",
    "if a%2==0:\n",
    "    print('the given number is even')\n",
    "else:\n",
    "    print('the given number is odd')"
   ]
  },
  {
   "cell_type": "code",
   "execution_count": null,
   "metadata": {},
   "outputs": [],
   "source": [
    "# program to check leap year\n",
    "year = int(input('enter a year: '))\n",
    "if year%4==0:\n",
    "    if year%100==0:\n",
    "        if year%400==0:\n",
    "            print(\"it's a leap year\")\n",
    "    else:\n",
    "        print('its a leap year')\n",
    "else:\n",
    "    print('this is not a leap year')"
   ]
  },
  {
   "cell_type": "code",
   "execution_count": null,
   "metadata": {},
   "outputs": [],
   "source": [
    "# program to check whether the number is prime number or not\n",
    "c = int(input('enter a number: '))\n",
    "if c >1:\n",
    "    for i in range(2,c):\n",
    "        if c%i==0:\n",
    "            print('The given number is not a prime number')\n",
    "            break\n",
    "    else:\n",
    "        print('its a prime number')            \n",
    "else:\n",
    "    print('the given number is not a prime number')\n",
    "    "
   ]
  },
  {
   "cell_type": "code",
   "execution_count": null,
   "metadata": {},
   "outputs": [],
   "source": [
    "# program to print all the prime numbers in an interval of 1-10000\n",
    "d = 10000\n",
    "for i in range(2,10001):\n",
    "    for j in range(2,10001):\n",
    "        if i==j:\n",
    "            continue\n",
    "        elif i%j==0:\n",
    "            break\n",
    "    else:\n",
    "        print(i) "
   ]
  },
  {
   "cell_type": "code",
   "execution_count": null,
   "metadata": {},
   "outputs": [],
   "source": []
  },
  {
   "cell_type": "code",
   "execution_count": null,
   "metadata": {},
   "outputs": [],
   "source": []
  }
 ],
 "metadata": {
  "kernelspec": {
   "display_name": "Python 3",
   "language": "python",
   "name": "python3"
  },
  "language_info": {
   "codemirror_mode": {
    "name": "ipython",
    "version": 3
   },
   "file_extension": ".py",
   "mimetype": "text/x-python",
   "name": "python",
   "nbconvert_exporter": "python",
   "pygments_lexer": "ipython3",
   "version": "3.7.3"
  }
 },
 "nbformat": 4,
 "nbformat_minor": 2
}
