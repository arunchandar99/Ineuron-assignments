{
 "cells": [
  {
   "cell_type": "code",
   "execution_count": null,
   "metadata": {},
   "outputs": [],
   "source": [
    "#program to convert kilometers to miles \n",
    "a = int(input('enter the value in kilometer'))\n",
    "miles = a * 0.621371\n",
    "print('value in miles: {}'.format(miles))"
   ]
  },
  {
   "cell_type": "code",
   "execution_count": null,
   "metadata": {},
   "outputs": [],
   "source": [
    "# program to convert celsius to fahrenheit \n",
    "b = int(input('enter the value in celsius: '))\n",
    "fahrenheit =(b *(9/5))+32\n",
    "print('value in fahrenheit: {}'.format(fahrenheit))"
   ]
  },
  {
   "cell_type": "code",
   "execution_count": null,
   "metadata": {},
   "outputs": [],
   "source": [
    "#program to display calendar\n",
    "import calendar\n",
    "month = int(input('enter month(MM): '))\n",
    "year = int(input('enter year(YY): '))\n",
    "print(calendar.month(year,month))\n"
   ]
  },
  {
   "cell_type": "code",
   "execution_count": 2,
   "metadata": {},
   "outputs": [
    {
     "name": "stdout",
     "output_type": "stream",
     "text": [
      "enter the value of a: 2\n",
      "enter the value of b: 3\n",
      "enter the value of c: 4\n",
      "solution_1: (-0.75+1.1989578808281798j)\n",
      "solution_2: (-0.75-1.1989578808281798j)\n"
     ]
    }
   ],
   "source": [
    "# program to solve quadratic equation \n",
    "# the general form of quadratic equation is ax^2 + bx + c = 0\n",
    "\n",
    "a = int(input('enter the value of a: '))\n",
    "b = int(input('enter the value of b: '))\n",
    "c = int(input('enter the value of c: '))\n",
    "\n",
    "\n",
    "# the purpose of importing cmath is that value of m may be positive or negative\n",
    "# if the value is negative, it shows math domain error \n",
    "# therefore cmath is use instead of math\n",
    "\n",
    "import cmath\n",
    "m = (b**2 - 4*a*c)\n",
    "n = cmath.sqrt(m)\n",
    "quadratic_formula_1 = ((-(b)+(n))/(2*a))\n",
    "quadratic_formula_2 = ((-(b)-(n))/(2*a))\n",
    "print('solution_1: {}'.format(quadratic_formula_1))\n",
    "print('solution_2: {}'.format(quadratic_formula_2))"
   ]
  },
  {
   "cell_type": "code",
   "execution_count": 5,
   "metadata": {},
   "outputs": [
    {
     "name": "stdout",
     "output_type": "stream",
     "text": [
      "enter the value of a: 12\n",
      "enter the value of b: 43\n",
      "value of a:43\n",
      "value of b:12\n"
     ]
    }
   ],
   "source": [
    "# program to swap two variables without temp variable \n",
    "a = int(input('enter the value of a: '))\n",
    "b = int(input('enter the value of b: '))\n",
    "a = a+b\n",
    "b = a-b\n",
    "a = a-b\n",
    "print('value of a:{}'.format(a))\n",
    "print('value of b:{}'.format(b))"
   ]
  },
  {
   "cell_type": "code",
   "execution_count": null,
   "metadata": {},
   "outputs": [],
   "source": []
  },
  {
   "cell_type": "code",
   "execution_count": null,
   "metadata": {},
   "outputs": [],
   "source": []
  }
 ],
 "metadata": {
  "kernelspec": {
   "display_name": "Python 3",
   "language": "python",
   "name": "python3"
  },
  "language_info": {
   "codemirror_mode": {
    "name": "ipython",
    "version": 3
   },
   "file_extension": ".py",
   "mimetype": "text/x-python",
   "name": "python",
   "nbconvert_exporter": "python",
   "pygments_lexer": "ipython3",
   "version": "3.7.3"
  }
 },
 "nbformat": 4,
 "nbformat_minor": 2
}
